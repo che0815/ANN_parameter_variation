{
 "cells": [
  {
   "cell_type": "code",
   "execution_count": 6,
   "metadata": {},
   "outputs": [
    {
     "name": "stdout",
     "output_type": "stream",
     "text": [
      "hidden layer node counts: 10\n",
      "Learning Rates:           7\n",
      "Number of epochs:         20\n",
      "Number of combinations:   1400\n",
      "11.666666666666666\n"
     ]
    }
   ],
   "source": [
    "# Hidden, LearningRate, Epochs\n",
    "\n",
    "def frange(start, stop, step):\n",
    "    i = start\n",
    "    while i <= stop:\n",
    "        yield i\n",
    "        i += step\n",
    "\n",
    "\n",
    "#hidden = list(frange(1,300,20))\n",
    "hidden = (5, 10, 20, 50, 100, 200, 220, 250, 270, 300)\n",
    "#LearningRate = list(frange(0.001,0.5,0.01))\n",
    "LearningRate = (0.001, 0.002, 0.005, 0.01, 0.05, 0.1, 0.3)\n",
    "epochs = 20\n",
    "\n",
    "print('hidden layer node counts: ' + str(len(hidden)))\n",
    "print('Learning Rates:           ' + str(len(LearningRate)))\n",
    "print('Number of epochs:         ' + str(epochs))\n",
    "print('Number of combinations:   ' + str(len(hidden)*len(LearningRate)*epochs))\n",
    "print(len(hidden)*len(LearningRate)*epochs*30/60/60)"
   ]
  },
  {
   "cell_type": "code",
   "execution_count": 3,
   "metadata": {},
   "outputs": [
    {
     "name": "stdout",
     "output_type": "stream",
     "text": [
      "1540067956.674919\n"
     ]
    }
   ],
   "source": [
    "import time\n",
    "start_time = time.time()\n",
    "\n",
    "print(start_time)"
   ]
  },
  {
   "cell_type": "code",
   "execution_count": null,
   "metadata": {},
   "outputs": [],
   "source": []
  }
 ],
 "metadata": {
  "kernelspec": {
   "display_name": "Python 3",
   "language": "python",
   "name": "python3"
  },
  "language_info": {
   "codemirror_mode": {
    "name": "ipython",
    "version": 3
   },
   "file_extension": ".py",
   "mimetype": "text/x-python",
   "name": "python",
   "nbconvert_exporter": "python",
   "pygments_lexer": "ipython3",
   "version": "3.6.5"
  }
 },
 "nbformat": 4,
 "nbformat_minor": 2
}
